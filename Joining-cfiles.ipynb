{
 "metadata": {
  "name": ""
 },
 "nbformat": 3,
 "nbformat_minor": 0,
 "worksheets": [
  {
   "cells": [
    {
     "cell_type": "code",
     "collapsed": false,
     "input": [
      "import pickle\n",
      "import numpy as np\n",
      "\n",
      "#Load:\n",
      "files = [ open( 'atrap_cct_simulation_{}.pkl'.format(j) ) for j in range(1,8) ]\n",
      "pkls = [ pickle.load(f) for f in files ]\n",
      "\n",
      "#Concatenate along the z axis:\n",
      "xlen = len(pkls[0].X)\n",
      "ylen = len(pkls[0].Y)\n",
      "pkl_output = pkls[0]\n",
      "#Concatenate z's of electrodes:\n",
      "for el in range(1,24):\n",
      "    el_name = 'EL_DC_{}'.format(el)\n",
      "    el_pot_tuple  = tuple( [ pkl[el_name] for pkl in pkls ] )\n",
      "    pkl_output[el_name] = np.concatenate( el_pot_tuple, axis=2 )\n",
      "\n",
      "#Concatenate Z's:\n",
      "Zs_tuple  = tuple( [ pkl['Z'] for pkl in pkls ] )\n",
      "pkl_output['Z'] = np.concatenate( Zs_tuple )\n",
      "\n",
      "#Save output:\n",
      "f = open('data.pkl','w')\n",
      "pickle.dump(pkl_output,f)\n",
      "\n",
      "f = open('data.pkl')\n",
      "pkl = pickle.load(f)"
     ],
     "language": "python",
     "metadata": {},
     "outputs": []
    }
   ],
   "metadata": {}
  }
 ]
}