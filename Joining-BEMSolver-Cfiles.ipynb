{
 "metadata": {
  "name": ""
 },
 "nbformat": 3,
 "nbformat_minor": 0,
 "worksheets": [
  {
   "cells": [
    {
     "cell_type": "code",
     "collapsed": false,
     "input": [
      "import pickle\n",
      "import numpy as np"
     ],
     "language": "python",
     "metadata": {},
     "outputs": [],
     "prompt_number": 1
    },
    {
     "cell_type": "code",
     "collapsed": false,
     "input": [
      "cd ../data_cp/"
     ],
     "language": "python",
     "metadata": {},
     "outputs": [
      {
       "output_type": "stream",
       "stream": "stdout",
       "text": [
        "/home/lab/Documents/Omid/trap-sim-tools-python/data_cp\n"
       ]
      }
     ],
     "prompt_number": 3
    },
    {
     "cell_type": "code",
     "collapsed": false,
     "input": [
      "#Load:\n",
      "files = [ open( 'atrap_cct_simulation_{}.pkl'.format(j) ) for j in range(1,8) ]\n",
      "pkls = [ pickle.load(f) for f in files ]"
     ],
     "language": "python",
     "metadata": {},
     "outputs": [],
     "prompt_number": 64
    },
    {
     "cell_type": "code",
     "collapsed": false,
     "input": [
      "#Concatenate:\n",
      "xlen = len(pkls[0].X)\n",
      "ylen = len(pkls[0].Y)\n",
      "pkl_output = pkls[0]\n",
      "for el in range(1,24):\n",
      "    el_name = 'EL_DC_{}'.format(el)\n",
      "    el_pot_tuple  = tuple( [ pkl[el_name] for pkl in pkls ] )\n",
      "    pkl_output[el_name] = np.concatenate( el_pot_tuple, axis=2 )"
     ],
     "language": "python",
     "metadata": {},
     "outputs": [],
     "prompt_number": 76
    },
    {
     "cell_type": "code",
     "collapsed": false,
     "input": [
      "#Save output:\n",
      "f = open('data.pkl','w')\n",
      "pickle.dump(pkl_output,f)"
     ],
     "language": "python",
     "metadata": {},
     "outputs": [],
     "prompt_number": 82
    }
   ],
   "metadata": {}
  }
 ]
}