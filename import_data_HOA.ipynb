{
 "cells": [
  {
   "cell_type": "markdown",
   "metadata": {},
   "source": [
    "Apr 15, 2019 - smouradi - Code to convert the .bin files provided by Sandia to something more bemsolver-like"
   ]
  },
  {
   "cell_type": "code",
<<<<<<< HEAD
   "execution_count": 9,
   "metadata": {
    "collapsed": true
   },
=======
   "execution_count": 1,
   "metadata": {},
>>>>>>> 7d5bbe77539f80371ec1900abae159661c60a02a
   "outputs": [],
   "source": [
    "import numpy as np\n",
    "import pickle"
   ]
  },
  {
   "cell_type": "code",
<<<<<<< HEAD
   "execution_count": 10,
   "metadata": {
    "collapsed": true
   },
=======
   "execution_count": 3,
   "metadata": {},
>>>>>>> 7d5bbe77539f80371ec1900abae159661c60a02a
   "outputs": [],
   "source": [
    "fin = 'HOA_trap_v1/RS1096_12400_1.bin'\n",
    "fout = 'HOA_trap_v1/RS1096_12400_1.pkl'\n",
    "\n",
    "#from table 5 of HOA manual\n",
    "electrodeNames = ['GND','RF']+['G'+str(i+1).zfill(2) for i in range(8)]+ \\\n",
    "                            ['L'+str(i+1).zfill(2) for i in range(16)]+ \\\n",
    "                            ['Q'+str(i+1).zfill(2) for i in range(40)]+ \\\n",
    "                            ['T'+str(i+1).zfill(2) for i in range(6)]+ \\\n",
    "                            ['Y'+str(i+1).zfill(2) for i in range(24)]\n",
    "                \n",
    "#from table 4 of HOA manual    \n",
    "with open(fin,'rb') as f:\n",
    "    \n",
    "    #header\n",
    "    raw = f.read(160)\n",
    "    nElec = np.frombuffer(raw[8:16],np.int64)[0]\n",
    "    nXYZ = np.frombuffer(raw[16:40],np.int64)\n",
    "    vSets = np.frombuffer(raw[40:48],np.int64)[0]\n",
    "    stepSize = np.frombuffer(raw[96:120])*1e3 #step size in mm (=5um)\n",
    "    origin = np.frombuffer(raw[120:144])*1e3\n",
    "    roi = np.array([np.array([0,nXYZ[i]-1])*stepSize[i]+origin[i] for i in range(3)])\n",
    "    \n",
    "    #electrode mapping\n",
    "    raw = f.read(8*nElec)\n",
    "    electrodes = np.frombuffer(raw,np.int64)\n",
    "    \n",
    "    #data\n",
    "    raw = f.read()\n",
    "    data = np.frombuffer(raw)\n",
    "    dt = data.reshape(nElec,nXYZ[0]*nXYZ[1]*nXYZ[2])\n"
   ]
  },
  {
   "cell_type": "code",
<<<<<<< HEAD
   "execution_count": 11,
   "metadata": {
    "collapsed": true
   },
=======
   "execution_count": 4,
   "metadata": {},
>>>>>>> 7d5bbe77539f80371ec1900abae159661c60a02a
   "outputs": [],
   "source": [
    "#making data structure\n",
    "gridXYZ = [np.linspace(roi[l,0],roi[l,1],nXYZ[l]) for l in range(3)]\n",
    "\n",
    "trap = {'X':gridXYZ[0],\n",
    "       'Y':gridXYZ[1],\n",
    "       'Z':gridXYZ[2]}\n",
    "\n",
    "for el in range(len(electrodeNames)):\n",
    "    trap[electrodeNames[el]] = {'name':electrodeNames[el],\n",
    "               'V':dt[el]}"
   ]
  },
  {
   "cell_type": "code",
<<<<<<< HEAD
   "execution_count": 12,
   "metadata": {
    "collapsed": true
   },
=======
   "execution_count": 5,
   "metadata": {},
>>>>>>> 7d5bbe77539f80371ec1900abae159661c60a02a
   "outputs": [],
   "source": [
    "#from table 1. used to make pretty plots of applied voltages\n",
    "trap['RF']['position']=[0,0]\n",
    "trap['Q19']['position']=[0,-1]\n",
    "trap['Q20']['position']=[0,1]\n",
    "trap['Q17']['position']=[-70,-1]\n",
    "trap['Q18']['position']=[-70,1]\n",
    "trap['Q15']['position']=[-140,-1]\n",
    "trap['Q16']['position']=[-140,1]\n",
    "trap['Q13']['position']=[-210,-1]\n",
    "trap['Q14']['position']=[-210,1]\n",
    "trap['Q11']['position']=[-280,-1]\n",
    "trap['Q12']['position']=[-280,1]\n",
    "trap['Q09']['position']=[-350,-1]\n",
    "trap['Q10']['position']=[-350,1]\n",
    "trap['Q07']['position']=[-420,-1]\n",
    "trap['Q08']['position']=[-420,1]\n",
    "trap['Q05']['position']=[-490,-1]\n",
    "trap['Q06']['position']=[-490,1]\n",
    "trap['Q03']['position']=[-560,-1]\n",
    "trap['Q04']['position']=[-560,1]\n",
    "trap['Q01']['position']=[-630,-1]\n",
    "trap['Q02']['position']=[-630,1]\n",
    "trap['Q21']['position']=[70,-1]\n",
    "trap['Q22']['position']=[70,1]\n",
    "trap['Q23']['position']=[140,-1]\n",
    "trap['Q24']['position']=[140,1]\n",
    "trap['Q25']['position']=[210,-1]\n",
    "trap['Q26']['position']=[210,1]\n",
    "trap['Q27']['position']=[280,-1]\n",
    "trap['Q28']['position']=[280,1]\n",
    "trap['Q29']['position']=[350,-1]\n",
    "trap['Q30']['position']=[350,1]\n",
    "trap['Q31']['position']=[420,-1]\n",
    "trap['Q32']['position']=[420,1]\n",
    "trap['Q33']['position']=[490,-1]\n",
    "trap['Q34']['position']=[490,1]\n",
    "trap['Q35']['position']=[560,-1]\n",
    "trap['Q36']['position']=[560,1]\n",
    "trap['Q37']['position']=[630,-1]\n",
    "trap['Q38']['position']=[630,1]\n",
    "trap['Q39']['position']=[0,-2]\n",
    "trap['Q40']['position']=[0,2]\n"
   ]
  },
  {
   "cell_type": "code",
<<<<<<< HEAD
   "execution_count": 13,
   "metadata": {
    "collapsed": true
   },
=======
   "execution_count": 6,
   "metadata": {},
>>>>>>> 7d5bbe77539f80371ec1900abae159661c60a02a
   "outputs": [],
   "source": [
    "#pick out connected electrodes & save to file\n",
    "\n",
    "electrodesDAC = ['RF']+['Q'+str(i+1).zfill(2) for i in range(7,33)]+ ['Q39','Q40']\n",
    "electrodesCENTRAL = ['RF']+['Q'+str(i+1).zfill(2) for i in range(17,22)]+ ['Q39','Q40']\n",
    "\n",
    "#fout = 'HOA_trap_v1/DAConly.pkl'\n",
    "#f = open(fout,'wb')\n",
    "#trap1 = {'X':gridXYZ[0],\n",
    "#       'Y':gridXYZ[1],\n",
    "#       'Z':gridXYZ[2],\n",
    "#        'electrodes':{}}\n",
    "#for e in electrodesDAC:\n",
    "#    trap1['electrodes'][e] = trap[e]\n",
    "#pickle.dump(trap1, f, -1)\n",
    "#f.close() \n",
    "\n",
    "\n",
    "fout = 'HOA_trap_v1/CENTRALonly.pkl'\n",
    "f = open(fout,'wb')\n",
    "trap1 = {'X':gridXYZ[0],\n",
    "       'Y':gridXYZ[1],\n",
    "       'Z':gridXYZ[2],\n",
    "        'electrodes':{}}\n",
    "for e in electrodesCENTRAL:\n",
    "    trap1['electrodes'][e] = trap[e]\n",
    "pickle.dump(trap1, f, -1)\n",
    "f.close() "
   ]
  },
  {
   "cell_type": "code",
<<<<<<< HEAD
=======
   "execution_count": null,
   "metadata": {},
   "outputs": [
    {
     "name": "stdout",
     "output_type": "stream",
     "text": [
      "183495\n"
     ]
    }
   ],
   "source": [
    "#reshape into what is needed by old python multipole expansion code\n",
    "\n",
    "gridXYZ = [np.linspace(roi[l,0],roi[l,1],nXYZ[l]) for l in range(3)]\n",
    "fullCoords = [[gridXYZ[0][i], gridXYZ[1][j], gridXYZ[2][k]] \\\n",
    "            for i in range(len(gridXYZ[0])) for j in range(len(gridXYZ[1])) for k in range(len(gridXYZ[2]))]\n",
    "print len(fullCoords)\n",
    "\n",
    "### save effect of only 28 electrodes initially controlled\n",
    "electrodes = [1]+range(32,58)+[64,65]\n",
    "\n",
    "fullData = [gridXYZ[0],gridXYZ[1],gridXYZ[2],[]]\n",
    "\n",
    "for i in electrodes:\n",
    "    fullData[3] = np.append(fullData[3],dt[i])\n",
    "\n",
    "np.savetxt('RS1096_12400_1_28onlyX.txt',fullData[0],delimiter=',')\n",
    "np.savetxt('RS1096_12400_1_28onlyY.txt',fullData[1],delimiter=',')\n",
    "np.savetxt('RS1096_12400_1_28onlyZ.txt',fullData[2],delimiter=',')\n",
    "np.savetxt('RS1096_12400_1_28onlyV.txt',fullData[3],delimiter=',')\n",
    "\n"
   ]
  },
  {
   "cell_type": "code",
   "execution_count": null,
   "metadata": {},
   "outputs": [],
   "source": []
  },
  {
   "cell_type": "code",
   "execution_count": null,
   "metadata": {},
   "outputs": [],
   "source": [
    "c = [ 0.00000000e+00, -2.13440377e+04, -1.44787518e+04, -5.12307279e+03,\\\n",
    "  2.80179096e+04,  6.84794501e+03, -2.27007778e+04,  3.31495204e+04,\\\n",
    " -2.36620419e+04,  2.42811482e+04, -3.38267558e+04, -9.86873741e+03,\\\n",
    " -6.42611670e+03,  1.51863075e+00, -2.92870927e+04,  4.16404770e+04,\\\n",
    " -7.99308246e+03,  1.38009067e+00, -1.09514580e+04,  3.21772730e+04,\\\n",
    "  1.48515280e+04, -1.10462967e+04,  1.29973951e+03,  1.14171247e+04,\\\n",
    " -1.02590098e+04,  2.46282926e+03, -7.69660343e+03,  8.49701338e+03,\\\n",
    "  1.01360653e+04]\n"
   ]
  },
  {
   "cell_type": "code",
   "execution_count": null,
   "metadata": {},
   "outputs": [],
   "source": [
    "from matplotlib import pyplot as plt\n",
    "from matplotlib import cm\n",
    "\n",
    "fig = plt.figure()\n",
    "ax = fig.gca()\n",
    "plot = ax.scatter(range(len(c)),range(len(c)),10,c,cmap=cm.hot)\n",
    "\n",
    "plt.show()"
   ]
  },
  {
   "cell_type": "code",
>>>>>>> 7d5bbe77539f80371ec1900abae159661c60a02a
   "execution_count": null,
   "metadata": {
    "collapsed": true
   },
   "outputs": [],
   "source": []
  }
 ],
 "metadata": {
  "kernelspec": {
   "display_name": "Python 2",
   "language": "python",
   "name": "python2"
  },
  "language_info": {
   "codemirror_mode": {
    "name": "ipython",
    "version": 2
   },
   "file_extension": ".py",
   "mimetype": "text/x-python",
   "name": "python",
   "nbconvert_exporter": "python",
   "pygments_lexer": "ipython2",
   "version": "2.7.15rc1"
  },
  "toc": {
   "base_numbering": 1,
   "nav_menu": {},
   "number_sections": true,
   "sideBar": true,
   "skip_h1_title": false,
   "title_cell": "Table of Contents",
   "title_sidebar": "Contents",
   "toc_cell": false,
   "toc_position": {},
   "toc_section_display": true,
   "toc_window_display": true
  },
  "varInspector": {
   "cols": {
    "lenName": 16,
    "lenType": 16,
    "lenVar": 40
   },
   "kernels_config": {
    "python": {
     "delete_cmd_postfix": "",
     "delete_cmd_prefix": "del ",
     "library": "var_list.py",
     "varRefreshCmd": "print(var_dic_list())"
    },
    "r": {
     "delete_cmd_postfix": ") ",
     "delete_cmd_prefix": "rm(",
     "library": "var_list.r",
     "varRefreshCmd": "cat(var_dic_list()) "
    }
   },
   "types_to_exclude": [
    "module",
    "function",
    "builtin_function_or_method",
    "instance",
    "_Feature"
   ],
   "window_display": false
  }
 },
 "nbformat": 4,
 "nbformat_minor": 2
}
