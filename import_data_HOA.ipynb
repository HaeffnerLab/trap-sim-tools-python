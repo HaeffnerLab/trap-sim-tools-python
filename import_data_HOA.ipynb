{
 "cells": [
  {
   "cell_type": "markdown",
   "metadata": {},
   "source": [
    "Apr 15, 2019 - smouradi - Code to convert the .bin files provided by Sandia to something more bemsolver-like"
   ]
  },
  {
   "cell_type": "code",
   "execution_count": 1,
   "metadata": {
    "collapsed": true
   },
   "outputs": [],
   "source": [
    "import numpy as np"
   ]
  },
  {
   "cell_type": "code",
   "execution_count": 82,
   "metadata": {},
   "outputs": [
    {
     "name": "stdout",
     "output_type": "stream",
     "text": [
      "96\n",
      "183495\n",
      "[0.005 0.005 0.005]\n"
     ]
    }
   ],
   "source": [
    "fname = 'RS1096_12400_1.bin'\n",
    "\n",
    "#from table 5 of HOA manual\n",
    "electrodeNames = ['GND','RF']+['G'+str(i+1).zfill(2) for i in range(8)]+ \\\n",
    "                            ['L'+str(i+1).zfill(2) for i in range(16)]+ \\\n",
    "                            ['Q'+str(i+1).zfill(2) for i in range(40)]+ \\\n",
    "                            ['T'+str(i+1).zfill(2) for i in range(6)]+ \\\n",
    "                            ['Y'+str(i+1).zfill(2) for i in range(24)]\n",
    "                \n",
    "#from table 4 of HOA manual    \n",
    "with open(fname,'rb') as f:\n",
    "    \n",
    "    #header\n",
    "    raw = f.read(160)\n",
    "    nElec = np.frombuffer(raw[8:16],np.int64)[0]\n",
    "    nXYZ = np.frombuffer(raw[16:40],np.int64)\n",
    "    vSets = np.frombuffer(raw[40:48],np.int64)[0]\n",
    "    stepSize = np.frombuffer(raw[96:120])*1e3 #step size in mm (=5um)\n",
    "    origin = np.frombuffer(raw[120:144])*1e3\n",
    "    roi = np.array([np.array([0,nXYZ[i]-1])*stepSize[i]+origin[i] for i in range(3)])\n",
    "    \n",
    "    #electrode mapping\n",
    "    raw = f.read(8*nElec)\n",
    "    electrodes = np.frombuffer(raw,np.int64)\n",
    "    \n",
    "    #data\n",
    "    raw = f.read()\n",
    "    data = np.frombuffer(raw)\n",
    "    dt = data.reshape(nElec,nXYZ[0]*nXYZ[1]*nXYZ[2])\n",
    "    print len(dt)\n",
    "    print len(dt[1])\n",
    "    print stepSize\n"
   ]
  },
  {
   "cell_type": "code",
   "execution_count": 89,
   "metadata": {},
   "outputs": [
    {
     "name": "stdout",
     "output_type": "stream",
     "text": [
      "183495\n"
     ]
    }
   ],
   "source": [
    "#reshape into what is needed by old python multipole expansion code\n",
    "\n",
    "gridXYZ = [np.linspace(roi[l,0],roi[l,1],nXYZ[l]) for l in range(3)]\n",
    "fullCoords = [[gridXYZ[0][i], gridXYZ[1][j], gridXYZ[2][k]] \\\n",
    "            for i in range(len(gridXYZ[0])) for j in range(len(gridXYZ[1])) for k in range(len(gridXYZ[2]))]\n",
    "print len(fullCoords)\n",
    "\n",
    "### save all data from this .bin file\n",
    "### CAUTION THIS TAKES A LONG TIME\n",
    "#fullCoords = fullCoords*nElec\n",
    "#fullData = [fullCoords[i]+[data[i]] for i in range(len(data))]\n",
    "#np.savetxt('RS1096_12400_1_full.txt',fullData, delimiter=',')\n",
    "\n",
    "### save effect of only Q electrodes\n",
    "#electrodes = [0,1]+range(26,66)\n",
    "#fullCoords = fullCoords*len(electrodes)\n",
    "#fullData = [fullCoords[i]+[data[i]] for i in electrodes]\n",
    "#np.savetxt('RS1096_12400_1_Qonly.txt',fullData,delimiter=',')\n",
    "\n",
    "### save effect of only 28 electrodes initially controlled\n",
    "electrodes = [1]+range(32,58)+[64,65]\n",
    "#fullCoords = fullCoords*len(electrodes)\n",
    "\n",
    "fullData = [gridXYZ[0],gridXYZ[1],gridXYZ[2],[]]\n",
    "\n",
    "for i in electrodes:\n",
    "    fullData[3] = np.append(fullData[3],dt[i])\n",
    "\n",
    "np.savetxt('RS1096_12400_1_28onlyX.txt',fullData[0],delimiter=',')\n",
    "np.savetxt('RS1096_12400_1_28onlyY.txt',fullData[1],delimiter=',')\n",
    "np.savetxt('RS1096_12400_1_28onlyZ.txt',fullData[2],delimiter=',')\n",
    "np.savetxt('RS1096_12400_1_28onlyV.txt',fullData[3],delimiter=',')\n",
    "\n"
   ]
  },
  {
   "cell_type": "code",
   "execution_count": 86,
   "metadata": {},
   "outputs": [
    {
     "data": {
      "text/plain": [
       "5321355"
      ]
     },
     "execution_count": 86,
     "metadata": {},
     "output_type": "execute_result"
    }
   ],
   "source": [
    "len(fullData[3])"
   ]
  },
  {
   "cell_type": "code",
   "execution_count": null,
   "metadata": {
    "collapsed": true
   },
   "outputs": [],
   "source": []
  }
 ],
 "metadata": {
  "kernelspec": {
   "display_name": "Python 2",
   "language": "python",
   "name": "python2"
  },
  "language_info": {
   "codemirror_mode": {
    "name": "ipython",
    "version": 2
   },
   "file_extension": ".py",
   "mimetype": "text/x-python",
   "name": "python",
   "nbconvert_exporter": "python",
   "pygments_lexer": "ipython2",
   "version": "2.7.12"
  }
 },
 "nbformat": 4,
 "nbformat_minor": 2
}
